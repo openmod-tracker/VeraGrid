{
 "cells": [
  {
   "cell_type": "heading",
   "metadata": {
    "collapsed": true
   },
   "level": 1,
   "source": [
    "Defining a grid from scratch"
   ]
  },
  {
   "cell_type": "markdown",
   "metadata": {},
   "source": [
    "In this example we are going to create a grid just by using GrdiCal's comands and we will run a power flow study."
   ]
  },
  {
   "cell_type": "code",
   "execution_count": 3,
   "metadata": {},
   "outputs": [],
   "source": [
    "from GridCal.Engine import *\n",
    "\n",
    "%matplotlib inline"
   ]
  },
  {
   "cell_type": "markdown",
   "metadata": {},
   "source": [
    "Let's create a new grid:"
   ]
  },
  {
   "cell_type": "code",
   "execution_count": 5,
   "metadata": {},
   "outputs": [],
   "source": [
    "grid = MultiCircuit(name='lynn 5 bus')"
   ]
  },
  {
   "cell_type": "code",
   "execution_count": 7,
   "metadata": {},
   "outputs": [],
   "source": [
    "# I will define this bus with all the properties so you see\n",
    "bus1 = Bus(name='Bus1',\n",
    "           vnom=10,   # Nominal voltage in kV\n",
    "           vmin=0.9,  # Bus minimum voltage in per unit\n",
    "           vmax=1.1,  # Bus maximum voltage in per unit\n",
    "           xpos=0,    # Bus x position in pixels\n",
    "           ypos=0,    # Bus y position in pixels\n",
    "           height=0,  # Bus height in pixels\n",
    "           width=0,   # Bus width in pixels\n",
    "           active=True,   # Is the bus active?\n",
    "           is_slack=False,  # Is this bus a slack bus?\n",
    "           area='Defualt',  # Area (for grouping purposes only)\n",
    "           zone='Default',  # Zone (for grouping purposes only)\n",
    "           substation='Default'  # Substation (for grouping purposes only)\n",
    "           )\n",
    "\n",
    "# the rest of the buses are defined with the default parameters\n",
    "bus2 = Bus(name='Bus2')\n",
    "bus3 = Bus(name='Bus3')\n",
    "bus4 = Bus(name='Bus4')\n",
    "bus5 = Bus(name='Bus5')\n",
    "\n",
    "# add the bus objects to the circuit\n",
    "grid.add_bus(bus1)\n",
    "grid.add_bus(bus2)\n",
    "grid.add_bus(bus3)\n",
    "grid.add_bus(bus4)\n",
    "grid.add_bus(bus5)"
   ]
  },
  {
   "cell_type": "code",
   "execution_count": 8,
   "metadata": {},
   "outputs": [
    {
     "data": {
      "text/plain": [
       "<GridCal.Engine.devices.Load at 0x7f1ddfbaa780>"
      ]
     },
     "execution_count": 8,
     "metadata": {},
     "output_type": "execute_result"
    }
   ],
   "source": [
    "# In GridCal, the loads, generators ect are stored within each bus object:\n",
    "\n",
    "# we'll define the first load completely\n",
    "l2 = Load(name='Load',\n",
    "          G=0,  # Impedance of the ZIP model in MVA at the nominal voltage\n",
    "          B=0,\n",
    "          Ir=0,\n",
    "          Ii=0,  # Current of the ZIP model in MVA at the nominal voltage\n",
    "          P=40,\n",
    "          Q=20,  # Power of the ZIP model in MVA\n",
    "          P_prof=None,  # Impedance profile\n",
    "          Q_prof=None,  # Current profile\n",
    "          Ir_prof=None,  # Power profile\n",
    "          Ii_prof=None,\n",
    "          G_prof=None,\n",
    "          B_prof=None,\n",
    "          active=True,  # Is active?\n",
    "          mttf=0.0,  # Mean time to failure\n",
    "          mttr=0.0  # Mean time to recovery\n",
    "          )\n",
    "grid.add_load(bus2, l2)\n",
    "\n",
    "# Define the others with the default parameters\n",
    "grid.add_load(bus3, Load(P=25, Q=15))\n",
    "grid.add_load(bus4, Load(P=40, Q=20))\n",
    "grid.add_load(bus5, Load(P=50, Q=20))"
   ]
  },
  {
   "cell_type": "code",
   "execution_count": 9,
   "metadata": {},
   "outputs": [
    {
     "data": {
      "text/plain": [
       "<GridCal.Engine.devices.Generator at 0x7f1ddfb906d8>"
      ]
     },
     "execution_count": 9,
     "metadata": {},
     "output_type": "execute_result"
    }
   ],
   "source": [
    "g1 = Generator(name='gen',\n",
    "               active_power=0.0,  # Active power in MW, since this generator is used to set the slack , is 0\n",
    "               voltage_module=1.0,  # Voltage set point to control\n",
    "               Qmin=-9999,  # minimum reactive power in MVAr\n",
    "               Qmax=9999,  # Maximum reactive power in MVAr\n",
    "               Snom=9999,  # Nominal power in MVA\n",
    "               power_prof=None,  # power profile\n",
    "               vset_prof=None,  # voltage set point profile\n",
    "               active=True  # Is active?\n",
    "               )\n",
    "grid.add_generator(bus1, g1)"
   ]
  },
  {
   "cell_type": "code",
   "execution_count": 10,
   "metadata": {},
   "outputs": [],
   "source": [
    "\n",
    "br1 = Branch(bus_from=bus1,\n",
    "             bus_to=bus2,\n",
    "             name='Line 1-2',\n",
    "             r=0.05,  # resistance of the pi model in per unit\n",
    "             x=0.11,  # reactance of the pi model in per unit\n",
    "             g=1e-20,  # conductance of the pi model in per unit\n",
    "             b=0.02,  # susceptance of the pi model in per unit\n",
    "             rate=50,  # Rate in MVA\n",
    "             tap=1.0,  # Tap value (value close to 1)\n",
    "             shift_angle=0,  # Tap angle in radians\n",
    "             active=True,  # is the branch active?\n",
    "             mttf=0,  # Mean time to failure\n",
    "             mttr=0,  # Mean time to recovery\n",
    "             branch_type=BranchType.Line,  # Branch type tag\n",
    "             length=1,  # Length in km (to be used with templates)\n",
    "             template=BranchTemplate()  # Branch template (The default one is void)\n",
    "             )\n",
    "grid.add_branch(br1)\n",
    "\n",
    "grid.add_branch(Branch(bus1, bus3, name='Line 1-3', r=0.05, x=0.11, b=0.02, rate=50))\n",
    "grid.add_branch(Branch(bus1, bus5, name='Line 1-5', r=0.03, x=0.08, b=0.02, rate=80))\n",
    "grid.add_branch(Branch(bus2, bus3, name='Line 2-3', r=0.04, x=0.09, b=0.02, rate=3))\n",
    "grid.add_branch(Branch(bus2, bus5, name='Line 2-5', r=0.04, x=0.09, b=0.02, rate=10))\n",
    "grid.add_branch(Branch(bus3, bus4, name='Line 3-4', r=0.06, x=0.13, b=0.03, rate=30))\n",
    "grid.add_branch(Branch(bus4, bus5, name='Line 4-5', r=0.04, x=0.09, b=0.02, rate=30))\n"
   ]
  },
  {
   "cell_type": "code",
   "execution_count": 11,
   "metadata": {},
   "outputs": [],
   "source": [
    "########################################################################################################################\n",
    "# Run a power flow simulation\n",
    "########################################################################################################################\n",
    "\n",
    "# We need to specify power flow options\n",
    "pf_options = PowerFlowOptions(solver_type=SolverType.NR,  # Base method to use\n",
    "                              verbose=False,  # Verbose option where available\n",
    "                              tolerance=1e-6,  # power error in p.u.\n",
    "                              max_iter=25,  # maximum iteration number\n",
    "                              control_q=True  # if to control the reactive power\n",
    "                              )\n",
    "\n",
    "# Declare and execute the power flow simulation\n",
    "pf = PowerFlow(grid, pf_options)\n",
    "pf.run()\n"
   ]
  },
  {
   "cell_type": "code",
   "execution_count": 12,
   "metadata": {},
   "outputs": [
    {
     "name": "stdout",
     "output_type": "stream",
     "text": [
      "\n       Vm (p.u.)  Va (Deg)       Vre       Vim\nBus1   1.000000  0.000000  1.000000  0.000000\nBus2   0.955306 -2.404835  0.954465 -0.040085\nBus3   0.954818 -2.363804  0.954005 -0.039381\nBus4   0.933334 -3.649786  0.931441 -0.059414\nBus5   0.953394 -2.688959  0.952344 -0.044728\n\n           Loading (%)  Current(p.u.)  Power (MVA)\nLine 1-2    99.610256       0.498051    49.805128\nLine 1-3    99.395638       0.496978    49.697819\nLine 1-5    95.072476       0.760580    76.057981\nLine 2-3    55.519737       0.017444     1.665592\nLine 2-5    50.626874       0.052995     5.062687\nLine 3-4    65.559073       0.205984    19.667722\nLine 4-5    81.043272       0.255015    24.312982\n\nError: [1.8965826464878432e-08]\nElapsed time (s): [0.013414859771728516] \n\n|      |   Vm (p.u.) |   Va (Deg) |      Vre |        Vim |\n|:-----|------------:|-----------:|---------:|-----------:|\n| Bus1 |    1        |    0       | 1        |  0         |\n| Bus2 |    0.955306 |   -2.40484 | 0.954465 | -0.0400846 |\n| Bus3 |    0.954818 |   -2.3638  | 0.954005 | -0.0393809 |\n| Bus4 |    0.933334 |   -3.64979 | 0.931441 | -0.0594139 |\n| Bus5 |    0.953394 |   -2.68896 | 0.952344 | -0.0447275 |\n\n|          |   Loading (%) |   Current(p.u.) |   Power (MVA) |\n|:---------|--------------:|----------------:|--------------:|\n| Line 1-2 |       99.6103 |       0.498051  |      49.8051  |\n| Line 1-3 |       99.3956 |       0.496978  |      49.6978  |\n| Line 1-5 |       95.0725 |       0.76058   |      76.058   |\n| Line 2-3 |       55.5197 |       0.0174441 |       1.66559 |\n| Line 2-5 |       50.6269 |       0.0529954 |       5.06269 |\n| Line 3-4 |       65.5591 |       0.205984  |      19.6677  |\n| Line 4-5 |       81.0433 |       0.255015  |      24.313   |\n"
     ]
    }
   ],
   "source": [
    "\n",
    "# now, let's compose a nice DataFrame with the voltage results\n",
    "headers = ['Vm (p.u.)', 'Va (Deg)', 'Vre', 'Vim']\n",
    "Vm = np.abs(pf.results.voltage)\n",
    "Va = np.angle(pf.results.voltage, deg=True)\n",
    "Vre = pf.results.voltage.real\n",
    "Vim = pf.results.voltage.imag\n",
    "data = np.c_[Vm, Va, Vre, Vim]\n",
    "v_df = pd.DataFrame(data=data, columns=headers, index=grid.bus_names)\n",
    "print('\\n', v_df)\n",
    "\n",
    "\n",
    "# Let's do the same for the branch results\n",
    "headers = ['Loading (%)', 'Current(p.u.)', 'Power (MVA)']\n",
    "loading = np.abs(pf.results.loading) * 100\n",
    "current = np.abs(pf.results.Ibranch)\n",
    "power = np.abs(pf.results.Sbranch)\n",
    "data = np.c_[loading, current, power]\n",
    "br_df = pd.DataFrame(data=data, columns=headers, index=grid.branch_names)\n",
    "print('\\n', br_df)\n",
    "\n",
    "# Finally the execution metrics\n",
    "print('\\nError:', pf.results.error)\n",
    "print('Elapsed time (s):', pf.results.elapsed, '\\n')\n",
    "\n",
    "\n",
    "from tabulate import tabulate\n",
    "\n",
    "print(tabulate(v_df, tablefmt=\"pipe\", headers=v_df.columns.values))\n",
    "print()\n",
    "print(tabulate(br_df, tablefmt=\"pipe\", headers=br_df.columns.values))"
   ]
  }
 ],
 "metadata": {
  "kernelspec": {
   "display_name": "Python 2",
   "language": "python",
   "name": "python2"
  },
  "language_info": {
   "codemirror_mode": {
    "name": "ipython",
    "version": 2
   },
   "file_extension": ".py",
   "mimetype": "text/x-python",
   "name": "python",
   "nbconvert_exporter": "python",
   "pygments_lexer": "ipython2",
   "version": "2.7.6"
  }
 },
 "nbformat": 4,
 "nbformat_minor": 0
}
