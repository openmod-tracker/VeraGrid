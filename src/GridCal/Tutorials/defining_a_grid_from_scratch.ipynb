{
 "cells": [
  {
   "cell_type": "markdown",
   "source": [
    "# Defining a grid from scratch\n",
    "\n",
    "In this example we are going to create a grid just by using GrdiCal's comands and we will run a power flow study."
   ],
   "metadata": {
    "collapsed": false
   }
  },
  {
   "cell_type": "code",
   "execution_count": 116,
   "outputs": [],
   "source": [
    "import pandas as pd\n",
    "import numpy as np\n",
    "\n",
    "from GridCal.Engine.Devices.branch import Branch, BranchTemplate\n",
    "from GridCal.Engine.Devices.generator import Generator\n",
    "from GridCal.Engine.Devices.load import Load\n",
    "from GridCal.Engine.Devices.types import BranchType\n",
    "from GridCal.Engine.Simulations.PowerFlow.power_flow_driver import \\\n",
    "    PowerFlowOptions, SolverType, PowerFlow\n",
    "from GridCal.Engine.Devices.bus import Bus\n",
    "from GridCal.Engine.Core.multi_circuit import MultiCircuit\n",
    "from tabulate import tabulate\n",
    "\n",
    "%matplotlib inline"
   ],
   "metadata": {
    "collapsed": false,
    "pycharm": {
     "name": "#%% python\n",
     "is_executing": false
    }
   }
  },
  {
   "cell_type": "markdown",
   "metadata": {},
   "source": [
    "Let's create a new grid object:"
   ]
  },
  {
   "cell_type": "code",
   "execution_count": 117,
   "metadata": {
    "pycharm": {
     "name": "#%% code\n",
     "is_executing": false
    }
   },
   "outputs": [],
   "source": [
    "grid = MultiCircuit(name='lynn 5 bus')"
   ]
  },
  {
   "cell_type": "markdown",
   "source": [
    "Define this first bus with all the parameters for demonstration purposes:"
   ],
   "metadata": {
    "collapsed": false
   }
  },
  {
   "cell_type": "code",
   "execution_count": 118,
   "outputs": [],
   "source": [
    "bus1 = Bus(\n",
    "    name='Bus1',\n",
    "    vnom=10,   # Nominal voltage in kV\n",
    "    vmin=0.9,  # Bus minimum voltage in per unit\n",
    "    vmax=1.1,  # Bus maximum voltage in per unit\n",
    "    xpos=0,    # Bus x position in pixels\n",
    "    ypos=0,    # Bus y position in pixels\n",
    "    height=0,  # Bus height in pixels\n",
    "    width=0,   # Bus width in pixels\n",
    "    active=True,   # Is the bus active?\n",
    "    is_slack=False,  # Is this bus a slack bus?\n",
    "    area='Default',  # Area (for grouping purposes only)\n",
    "    zone='Default',  # Zone (for grouping purposes only)\n",
    "    substation='Default'  # Substation (for grouping purposes only)\n",
    ")"
   ],
   "metadata": {
    "collapsed": false,
    "pycharm": {
     "name": "#%%\n",
     "is_executing": false
    }
   }
  },
  {
   "cell_type": "markdown",
   "source": [
    "The rest of the buses are defined with the default parameters:"
   ],
   "metadata": {
    "collapsed": false,
    "pycharm": {
     "name": "#%% md\n"
    }
   }
  },
  {
   "cell_type": "code",
   "execution_count": 119,
   "outputs": [],
   "source": [
    "bus2 = Bus(name='Bus2')\n",
    "bus3 = Bus(name='Bus3')\n",
    "bus4 = Bus(name='Bus4')\n",
    "bus5 = Bus(name='Bus5')"
   ],
   "metadata": {
    "collapsed": false,
    "pycharm": {
     "name": "#%%\n",
     "is_executing": false
    }
   }
  },
  {
   "cell_type": "markdown",
   "source": [
    "Add the bus objects to the circuit:"
   ],
   "metadata": {
    "collapsed": false,
    "pycharm": {
     "name": "#%% md\n"
    }
   }
  },
  {
   "cell_type": "code",
   "execution_count": 120,
   "outputs": [],
   "source": [
    "grid.add_bus(bus1)\n",
    "grid.add_bus(bus2)\n",
    "grid.add_bus(bus3)\n",
    "grid.add_bus(bus4)\n",
    "grid.add_bus(bus5)"
   ],
   "metadata": {
    "collapsed": false,
    "pycharm": {
     "name": "#%%\n",
     "is_executing": false
    }
   }
  },
  {
   "cell_type": "markdown",
   "metadata": {
    "pycharm": {
     "name": "#%% md\n"
    }
   },
   "source": [
    "In GridCal, the loads, generators etc. are stored within each bus object.\n",
    "\n",
    "We'll define the first load completely:"
   ]
  },
  {
   "cell_type": "code",
   "execution_count": 121,
   "outputs": [
    {
     "data": {
      "text/plain": "<GridCal.Engine.Devices.load.Load at 0x7f5824bdd350>"
     },
     "metadata": {},
     "output_type": "execute_result",
     "execution_count": 121
    }
   ],
   "source": [
    "l2 = Load(\n",
    "    name='Load',\n",
    "    G=0,  # Impedance of the ZIP model in MVA at the nominal voltage\n",
    "    B=0,\n",
    "    Ir=0,\n",
    "    Ii=0,  # Current of the ZIP model in MVA at the nominal voltage\n",
    "    P=40,\n",
    "    Q=20,  # Power of the ZIP model in MVA\n",
    "    P_prof=None,  # Impedance profile\n",
    "    Q_prof=None,  # Current profile\n",
    "    Ir_prof=None,  # Power profile\n",
    "    Ii_prof=None,\n",
    "    G_prof=None,\n",
    "    B_prof=None,\n",
    "    active=True,  # Is active?\n",
    "    mttf=0.0,  # Mean time to failure\n",
    "    mttr=0.0  # Mean time to recovery\n",
    ")\n",
    "grid.add_load(bus2, l2)"
   ],
   "metadata": {
    "collapsed": false,
    "pycharm": {
     "name": "#%%\n",
     "is_executing": false
    }
   }
  },
  {
   "cell_type": "markdown",
   "source": [
    "Define the others with the default parameters:"
   ],
   "metadata": {
    "collapsed": false,
    "pycharm": {
     "name": "#%% md\n"
    }
   }
  },
  {
   "cell_type": "code",
   "execution_count": 122,
   "outputs": [
    {
     "data": {
      "text/plain": "<GridCal.Engine.Devices.load.Load at 0x7f5824c47810>"
     },
     "metadata": {},
     "output_type": "execute_result",
     "execution_count": 122
    }
   ],
   "source": [
    "grid.add_load(bus3, Load(P=25, Q=15))\n",
    "grid.add_load(bus4, Load(P=40, Q=20))\n",
    "grid.add_load(bus5, Load(P=50, Q=20))"
   ],
   "metadata": {
    "collapsed": false,
    "pycharm": {
     "name": "#%%\n",
     "is_executing": false
    }
   }
  },
  {
   "cell_type": "code",
   "execution_count": 123,
   "metadata": {
    "pycharm": {
     "is_executing": false
    }
   },
   "outputs": [
    {
     "data": {
      "text/plain": "<GridCal.Engine.Devices.generator.Generator at 0x7f5824ccba90>"
     },
     "metadata": {},
     "output_type": "execute_result",
     "execution_count": 123
    }
   ],
   "source": [
    "g1 = Generator(\n",
    "    name='gen',\n",
    "    active_power=0.0,  # Active power in MW, since this generator is used to set the slack , is 0\n",
    "    voltage_module=1.0,  # Voltage set point to control\n",
    "    Qmin=-9999,  # minimum reactive power in MVAr\n",
    "    Qmax=9999,  # Maximum reactive power in MVAr\n",
    "    Snom=9999,  # Nominal power in MVA\n",
    "    power_prof=None,  # power profile\n",
    "    vset_prof=None,  # voltage set point profile\n",
    "    active=True  # Is active?\n",
    ")\n",
    "grid.add_generator(bus1, g1)"
   ]
  },
  {
   "cell_type": "code",
   "execution_count": 124,
   "metadata": {
    "pycharm": {
     "is_executing": false
    }
   },
   "outputs": [],
   "source": [
    "br1 = Branch(\n",
    "    bus_from=bus1,\n",
    "    bus_to=bus2,\n",
    "    name='Line 1-2',\n",
    "    r=0.05,  # resistance of the pi model in per unit\n",
    "    x=0.11,  # reactance of the pi model in per unit\n",
    "    g=1e-20,  # conductance of the pi model in per unit\n",
    "    b=0.02,  # susceptance of the pi model in per unit\n",
    "    rate=50,  # Rate in MVA\n",
    "    tap=1.0,  # Tap value (value close to 1)\n",
    "    shift_angle=0,  # Tap angle in radians\n",
    "    active=True,  # is the branch active?\n",
    "    mttf=0,  # Mean time to failure\n",
    "    mttr=0,  # Mean time to recovery\n",
    "    branch_type=BranchType.Line,  # Branch type tag\n",
    "    length=1,  # Length in km (to be used with templates)\n",
    "    template=BranchTemplate()  # Branch template (The default one is void)\n",
    ")\n",
    "grid.add_branch(br1)"
   ]
  },
  {
   "cell_type": "markdown",
   "source": [
    "All other branches with necessary parameters only:"
   ],
   "metadata": {
    "collapsed": false
   }
  },
  {
   "cell_type": "code",
   "execution_count": 125,
   "outputs": [],
   "source": [
    "grid.add_branch(Branch(bus1, bus3, name='Line 1-3', r=0.05, x=0.11, b=0.02, rate=50))\n",
    "grid.add_branch(Branch(bus1, bus5, name='Line 1-5', r=0.03, x=0.08, b=0.02, rate=80))\n",
    "grid.add_branch(Branch(bus2, bus3, name='Line 2-3', r=0.04, x=0.09, b=0.02, rate=3))\n",
    "grid.add_branch(Branch(bus2, bus5, name='Line 2-5', r=0.04, x=0.09, b=0.02, rate=10))\n",
    "grid.add_branch(Branch(bus3, bus4, name='Line 3-4', r=0.06, x=0.13, b=0.03, rate=30))\n",
    "grid.add_branch(Branch(bus4, bus5, name='Line 4-5', r=0.04, x=0.09, b=0.02, rate=30))"
   ],
   "metadata": {
    "collapsed": false,
    "pycharm": {
     "name": "#%%\n",
     "is_executing": false
    }
   }
  },
  {
   "cell_type": "markdown",
   "source": [
    "Define power flow options:"
   ],
   "metadata": {
    "collapsed": false,
    "pycharm": {
     "name": "#%% md\n"
    }
   }
  },
  {
   "cell_type": "code",
   "execution_count": 126,
   "metadata": {
    "pycharm": {
     "is_executing": false
    }
   },
   "outputs": [],
   "source": [
    "power_flow_options = PowerFlowOptions(\n",
    "    solver_type=SolverType.NR,  # Base method to use\n",
    "    verbose=False,  # Verbose option where available\n",
    "    tolerance=1e-6,  # power error in p.u.\n",
    "    max_iter=25,  # maximum iteration number\n",
    "    control_q=True  # if to control the reactive power\n",
    ")"
   ]
  },
  {
   "cell_type": "markdown",
   "source": [
    "Declare and execute the power flow simulation"
   ],
   "metadata": {
    "collapsed": false,
    "pycharm": {
     "name": "#%% md\n"
    }
   }
  },
  {
   "cell_type": "code",
   "execution_count": 127,
   "outputs": [],
   "source": [
    "pf = PowerFlow(grid, power_flow_options)\n",
    "pf.run()"
   ],
   "metadata": {
    "collapsed": false,
    "pycharm": {
     "name": "#%%\n",
     "is_executing": false
    }
   }
  },
  {
   "cell_type": "markdown",
   "source": [
    "Now, let's compose a data frame with the voltage results:"
   ],
   "metadata": {
    "collapsed": false
   }
  },
  {
   "cell_type": "code",
   "execution_count": 128,
   "metadata": {
    "pycharm": {
     "is_executing": false
    }
   },
   "outputs": [
    {
     "name": "stdout",
     "text": [
      "\n       Vm (p.u.)  Va (Deg)       Vre       Vim\nBus1   1.000000  0.000000  1.000000  0.000000\nBus2   0.955306 -2.404835  0.954465 -0.040085\nBus3   0.954818 -2.363804  0.954005 -0.039381\nBus4   0.933334 -3.649786  0.931441 -0.059414\nBus5   0.953394 -2.688959  0.952344 -0.044728\n"
     ],
     "output_type": "stream"
    }
   ],
   "source": [
    "headers = ['Vm (p.u.)', 'Va (Deg)', 'Vre', 'Vim']\n",
    "Vm = np.abs(pf.results.voltage)\n",
    "Va = np.angle(pf.results.voltage, deg=True)\n",
    "Vre = pf.results.voltage.real\n",
    "Vim = pf.results.voltage.imag\n",
    "data = np.c_[Vm, Va, Vre, Vim]\n",
    "v_df = pd.DataFrame(data=data, columns=headers, index=grid.bus_names)\n",
    "print('\\n', v_df)"
   ]
  },
  {
   "cell_type": "markdown",
   "source": [
    "Let's do the same for the branch results:"
   ],
   "metadata": {
    "collapsed": false
   }
  },
  {
   "cell_type": "code",
   "execution_count": 129,
   "outputs": [
    {
     "name": "stdout",
     "text": [
      "\n           Loading (%)  Current(p.u.)  Power (MVA)\nLine 1-2    99.610256       0.498051    49.805128\nLine 1-3    99.395638       0.496978    49.697819\nLine 1-5    95.072476       0.760580    76.057981\nLine 2-3    55.519737       0.017444     1.665592\nLine 2-5    50.626874       0.052995     5.062687\nLine 3-4    65.559073       0.205984    19.667722\nLine 4-5    81.043272       0.255015    24.312982\n"
     ],
     "output_type": "stream"
    }
   ],
   "source": [
    "headers = ['Loading (%)', 'Current(p.u.)', 'Power (MVA)']\n",
    "loading = np.abs(pf.results.loading) * 100\n",
    "current = np.abs(pf.results.Ibranch)\n",
    "power = np.abs(pf.results.Sbranch)\n",
    "data = np.c_[loading, current, power]\n",
    "br_df = pd.DataFrame(data=data, columns=headers, index=grid.branch_names)\n",
    "print('\\n', br_df)"
   ],
   "metadata": {
    "collapsed": false,
    "pycharm": {
     "name": "#%%\n",
     "is_executing": false
    }
   }
  },
  {
   "cell_type": "markdown",
   "source": [
    "Finally, print the execution metrics:"
   ],
   "metadata": {
    "collapsed": false,
    "pycharm": {
     "name": "#%% md\n"
    }
   }
  },
  {
   "cell_type": "code",
   "execution_count": 130,
   "outputs": [
    {
     "name": "stdout",
     "text": [
      "\nError: [1.8965826464878432e-08]\nElapsed time (s): [0.016323328018188477] \n\n|      |   Vm (p.u.) |   Va (Deg) |      Vre |        Vim |\n|:-----|------------:|-----------:|---------:|-----------:|\n| Bus1 |    1        |    0       | 1        |  0         |\n| Bus2 |    0.955306 |   -2.40484 | 0.954465 | -0.0400846 |\n| Bus3 |    0.954818 |   -2.3638  | 0.954005 | -0.0393809 |\n| Bus4 |    0.933334 |   -3.64979 | 0.931441 | -0.0594139 |\n| Bus5 |    0.953394 |   -2.68896 | 0.952344 | -0.0447275 |\n\n|          |   Loading (%) |   Current(p.u.) |   Power (MVA) |\n|:---------|--------------:|----------------:|--------------:|\n| Line 1-2 |       99.6103 |       0.498051  |      49.8051  |\n| Line 1-3 |       99.3956 |       0.496978  |      49.6978  |\n| Line 1-5 |       95.0725 |       0.76058   |      76.058   |\n| Line 2-3 |       55.5197 |       0.0174441 |       1.66559 |\n| Line 2-5 |       50.6269 |       0.0529954 |       5.06269 |\n| Line 3-4 |       65.5591 |       0.205984  |      19.6677  |\n| Line 4-5 |       81.0433 |       0.255015  |      24.313   |\n"
     ],
     "output_type": "stream"
    }
   ],
   "source": [
    "print('\\nError:', pf.results.error)\n",
    "print('Elapsed time (s):', pf.results.elapsed, '\\n')\n",
    "\n",
    "print(tabulate(v_df, tablefmt=\"pipe\", headers=v_df.columns.values))\n",
    "print()\n",
    "print(tabulate(br_df, tablefmt=\"pipe\", headers=br_df.columns.values))"
   ],
   "metadata": {
    "collapsed": false,
    "pycharm": {
     "name": "#%%\n",
     "is_executing": false
    }
   }
  }
 ],
 "metadata": {
  "kernelspec": {
   "name": "python3",
   "language": "python",
   "display_name": "Python 3"
  },
  "language_info": {
   "codemirror_mode": {
    "name": "ipython",
    "version": 2
   },
   "file_extension": ".py",
   "mimetype": "text/x-python",
   "name": "python",
   "nbconvert_exporter": "python",
   "pygments_lexer": "ipython2",
   "version": "2.7.6"
  },
  "pycharm": {
   "stem_cell": {
    "cell_type": "raw",
    "source": [],
    "metadata": {
     "collapsed": false
    }
   }
  }
 },
 "nbformat": 4,
 "nbformat_minor": 0
}